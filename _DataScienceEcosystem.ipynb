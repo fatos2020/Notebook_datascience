{
 "cells": [
  {
   "cell_type": "markdown",
   "id": "287ae8e5-e97d-456e-a150-f1a71081d98a",
   "metadata": {},
   "source": [
    "# Data Science Tools and Ecosystem"
   ]
  },
  {
   "cell_type": "markdown",
   "id": "9b62aee0-e731-4992-b26d-4ac8999d2bc9",
   "metadata": {},
   "source": [
    "In this notebook, Data Science Tools and Ecosystem are summarized."
   ]
  },
  {
   "cell_type": "markdown",
   "id": "0c356466-09bb-4b4c-aa77-1cf3c39c0ebd",
   "metadata": {},
   "source": [
    "### Objectives:\n",
    "\n",
    "List popular languages for Data Science\n",
    "- Java.\n",
    "- JavaScript.\n",
    "- SQL.\n",
    "- C ou C++"
   ]
  },
  {
   "cell_type": "markdown",
   "id": "29965cd6-edcc-45cc-8274-64260b57721c",
   "metadata": {},
   "source": [
    "Some of the popular languages that Data Scientists use are:\n",
    "1. Python\n",
    "2. R\n",
    "3. MATLAB"
   ]
  },
  {
   "cell_type": "markdown",
   "id": "db510bd4-2513-4c0c-8b60-4a98b5b4a1f2",
   "metadata": {},
   "source": [
    "Some of the commonly used libraries used by Data Scientists include:\n",
    "1. Pandas\n",
    "2. Numpy\n",
    "3. Matplotid..."
   ]
  },
  {
   "cell_type": "markdown",
   "id": "8b5e7727-8f1c-4e81-a711-2e96b10f84b0",
   "metadata": {},
   "source": [
    "|Data Science Tools|\n",
    "|------------------|\n",
    "|Power BI |\n",
    "|Microsoft Excel|\n",
    "|Google Analytics...|"
   ]
  },
  {
   "cell_type": "markdown",
   "id": "445e1c4a-f60b-4206-a659-1ba82422fb98",
   "metadata": {},
   "source": [
    "### Below are a few examples of evaluating arithmetic expressions in Python"
   ]
  },
  {
   "cell_type": "code",
   "execution_count": 1,
   "id": "9711405a-7b1f-4d39-b68c-cba124cf3f9c",
   "metadata": {
    "tags": []
   },
   "outputs": [
    {
     "data": {
      "text/plain": [
       "17"
      ]
     },
     "execution_count": 1,
     "metadata": {},
     "output_type": "execute_result"
    }
   ],
   "source": [
    "# This a simple arithmetic expression to mutiply then add integers\n",
    "(3*4)+5"
   ]
  },
  {
   "cell_type": "code",
   "execution_count": 2,
   "id": "293e8333-b114-4dd3-8fdc-3565ca66a675",
   "metadata": {
    "tags": []
   },
   "outputs": [
    {
     "data": {
      "text/plain": [
       "3.3333333333333335"
      ]
     },
     "execution_count": 2,
     "metadata": {},
     "output_type": "execute_result"
    }
   ],
   "source": [
    "# This will convert 200 minutes to hours by diving by 60\n",
    "200 / 60"
   ]
  },
  {
   "cell_type": "markdown",
   "id": "58159d8e-f5a1-4222-b682-78b2b9eab87d",
   "metadata": {},
   "source": [
    "## Author\n",
    "OUATTARA TABALAFOLOH FATOGOMA"
   ]
  },
  {
   "cell_type": "code",
   "execution_count": null,
   "id": "51a04bce-dd26-474a-bf70-f4f1cee5e166",
   "metadata": {},
   "outputs": [],
   "source": []
  }
 ],
 "metadata": {
  "kernelspec": {
   "display_name": "Python",
   "language": "python",
   "name": "conda-env-python-py"
  },
  "language_info": {
   "codemirror_mode": {
    "name": "ipython",
    "version": 3
   },
   "file_extension": ".py",
   "mimetype": "text/x-python",
   "name": "python",
   "nbconvert_exporter": "python",
   "pygments_lexer": "ipython3",
   "version": "3.7.12"
  }
 },
 "nbformat": 4,
 "nbformat_minor": 5
}
